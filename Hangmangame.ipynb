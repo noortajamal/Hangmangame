{
 "cells": [
  {
   "cell_type": "code",
   "execution_count": 1,
   "id": "eaad0eed-1d7b-4059-9700-d47ca5d67455",
   "metadata": {},
   "outputs": [
    {
     "name": "stdout",
     "output_type": "stream",
     "text": [
      "Let's play Hangman!\n",
      "\n",
      "                   -----\n",
      "                   |   |\n",
      "                       |\n",
      "                       |\n",
      "                       |\n",
      "                      |\n",
      "                --------\n",
      "                \n",
      "___________\n",
      "\n",
      "\n"
     ]
    },
    {
     "name": "stdin",
     "output_type": "stream",
     "text": [
      "Please guess a letter or word:  y\n"
     ]
    },
    {
     "name": "stdout",
     "output_type": "stream",
     "text": [
      "y is not in the word.\n",
      "\n",
      "                   -----\n",
      "                   |   |\n",
      "                   O   |\n",
      "                       |\n",
      "                       |\n",
      "                      |\n",
      "                --------\n",
      "                \n",
      "___________\n",
      "\n",
      "\n"
     ]
    },
    {
     "name": "stdin",
     "output_type": "stream",
     "text": [
      "Please guess a letter or word:  h\n"
     ]
    },
    {
     "name": "stdout",
     "output_type": "stream",
     "text": [
      "h is not in the word.\n",
      "\n",
      "                   -----\n",
      "                   |   |\n",
      "                   O   |\n",
      "                   |   |\n",
      "                       |\n",
      "                      |\n",
      "                --------\n",
      "                \n",
      "___________\n",
      "\n",
      "\n"
     ]
    },
    {
     "name": "stdin",
     "output_type": "stream",
     "text": [
      "Please guess a letter or word:  r\n"
     ]
    },
    {
     "name": "stdout",
     "output_type": "stream",
     "text": [
      "Good job! r is in the word.\n",
      "\n",
      "                   -----\n",
      "                   |   |\n",
      "                   O   |\n",
      "                   |   |\n",
      "                       |\n",
      "                      |\n",
      "                --------\n",
      "                \n",
      "_r__r______\n",
      "\n",
      "\n"
     ]
    },
    {
     "name": "stdin",
     "output_type": "stream",
     "text": [
      "Please guess a letter or word:  p\n"
     ]
    },
    {
     "name": "stdout",
     "output_type": "stream",
     "text": [
      "Good job! p is in the word.\n",
      "\n",
      "                   -----\n",
      "                   |   |\n",
      "                   O   |\n",
      "                   |   |\n",
      "                       |\n",
      "                      |\n",
      "                --------\n",
      "                \n",
      "pr__r______\n",
      "\n",
      "\n"
     ]
    },
    {
     "name": "stdin",
     "output_type": "stream",
     "text": [
      "Please guess a letter or word:  m\n"
     ]
    },
    {
     "name": "stdout",
     "output_type": "stream",
     "text": [
      "Good job! m is in the word.\n",
      "\n",
      "                   -----\n",
      "                   |   |\n",
      "                   O   |\n",
      "                   |   |\n",
      "                       |\n",
      "                      |\n",
      "                --------\n",
      "                \n",
      "pr__r_mm___\n",
      "\n",
      "\n"
     ]
    },
    {
     "name": "stdin",
     "output_type": "stream",
     "text": [
      "Please guess a letter or word:  g\n"
     ]
    },
    {
     "name": "stdout",
     "output_type": "stream",
     "text": [
      "Good job! g is in the word.\n",
      "\n",
      "                   -----\n",
      "                   |   |\n",
      "                   O   |\n",
      "                   |   |\n",
      "                       |\n",
      "                      |\n",
      "                --------\n",
      "                \n",
      "pr_gr_mm__g\n",
      "\n",
      "\n"
     ]
    },
    {
     "name": "stdin",
     "output_type": "stream",
     "text": [
      "Please guess a letter or word:  i\n"
     ]
    },
    {
     "name": "stdout",
     "output_type": "stream",
     "text": [
      "Good job! i is in the word.\n",
      "\n",
      "                   -----\n",
      "                   |   |\n",
      "                   O   |\n",
      "                   |   |\n",
      "                       |\n",
      "                      |\n",
      "                --------\n",
      "                \n",
      "pr_gr_mmi_g\n",
      "\n",
      "\n"
     ]
    },
    {
     "name": "stdin",
     "output_type": "stream",
     "text": [
      "Please guess a letter or word:  o\n"
     ]
    },
    {
     "name": "stdout",
     "output_type": "stream",
     "text": [
      "Good job! o is in the word.\n",
      "\n",
      "                   -----\n",
      "                   |   |\n",
      "                   O   |\n",
      "                   |   |\n",
      "                       |\n",
      "                      |\n",
      "                --------\n",
      "                \n",
      "progr_mmi_g\n",
      "\n",
      "\n"
     ]
    },
    {
     "name": "stdin",
     "output_type": "stream",
     "text": [
      "Please guess a letter or word:  o\n"
     ]
    },
    {
     "name": "stdout",
     "output_type": "stream",
     "text": [
      "You already guessed the letter o.\n",
      "\n",
      "                   -----\n",
      "                   |   |\n",
      "                   O   |\n",
      "                   |   |\n",
      "                       |\n",
      "                      |\n",
      "                --------\n",
      "                \n",
      "progr_mmi_g\n",
      "\n",
      "\n"
     ]
    },
    {
     "name": "stdin",
     "output_type": "stream",
     "text": [
      "Please guess a letter or word:  a\n"
     ]
    },
    {
     "name": "stdout",
     "output_type": "stream",
     "text": [
      "Good job! a is in the word.\n",
      "\n",
      "                   -----\n",
      "                   |   |\n",
      "                   O   |\n",
      "                   |   |\n",
      "                       |\n",
      "                      |\n",
      "                --------\n",
      "                \n",
      "programmi_g\n",
      "\n",
      "\n"
     ]
    },
    {
     "name": "stdin",
     "output_type": "stream",
     "text": [
      "Please guess a letter or word:  n\n"
     ]
    },
    {
     "name": "stdout",
     "output_type": "stream",
     "text": [
      "Good job! n is in the word.\n",
      "\n",
      "                   -----\n",
      "                   |   |\n",
      "                   O   |\n",
      "                   |   |\n",
      "                       |\n",
      "                      |\n",
      "                --------\n",
      "                \n",
      "programming\n",
      "\n",
      "\n",
      "Congrats, you guessed the word! You win!\n"
     ]
    }
   ],
   "source": [
    "import random\n",
    "\n",
    "def choose_word():\n",
    "    words = [\"python\", \"hangman\", \"challenge\", \"programming\", \"openai\"]\n",
    "    return random.choice(words)\n",
    "\n",
    "def display_hangman(tries):\n",
    "    stages = [\n",
    "                \"\"\"\n",
    "                   -----\n",
    "                   |   |\n",
    "                   O   |\n",
    "                  /|\\\\  |\n",
    "                  / \\\\  |\n",
    "                      |\n",
    "                --------\n",
    "                \"\"\",\n",
    "                \"\"\"\n",
    "                   -----\n",
    "                   |   |\n",
    "                   O   |\n",
    "                  /|\\\\  |\n",
    "                  /    |\n",
    "                      |\n",
    "                --------\n",
    "                \"\"\",\n",
    "                \"\"\"\n",
    "                   -----\n",
    "                   |   |\n",
    "                   O   |\n",
    "                  /|\\\\  |\n",
    "                       |\n",
    "                      |\n",
    "                --------\n",
    "                \"\"\",\n",
    "                \"\"\"\n",
    "                   -----\n",
    "                   |   |\n",
    "                   O   |\n",
    "                  /|   |\n",
    "                       |\n",
    "                      |\n",
    "                --------\n",
    "                \"\"\",\n",
    "                \"\"\"\n",
    "                   -----\n",
    "                   |   |\n",
    "                   O   |\n",
    "                   |   |\n",
    "                       |\n",
    "                      |\n",
    "                --------\n",
    "                \"\"\",\n",
    "                \"\"\"\n",
    "                   -----\n",
    "                   |   |\n",
    "                   O   |\n",
    "                       |\n",
    "                       |\n",
    "                      |\n",
    "                --------\n",
    "                \"\"\",\n",
    "                \"\"\"\n",
    "                   -----\n",
    "                   |   |\n",
    "                       |\n",
    "                       |\n",
    "                       |\n",
    "                      |\n",
    "                --------\n",
    "                \"\"\"\n",
    "    ]\n",
    "    return stages[tries]\n",
    "\n",
    "def play():\n",
    "    word = choose_word()\n",
    "    word_completion = \"_\" * len(word)\n",
    "    guessed = False\n",
    "    guessed_letters = []\n",
    "    guessed_words = []\n",
    "    tries = 6\n",
    "\n",
    "    print(\"Let's play Hangman!\")\n",
    "    print(display_hangman(tries))\n",
    "    print(word_completion)\n",
    "    print(\"\\n\")\n",
    "\n",
    "    while not guessed and tries > 0:\n",
    "        guess = input(\"Please guess a letter or word: \").lower()\n",
    "        if len(guess) == 1 and guess.isalpha():\n",
    "            if guess in guessed_letters:\n",
    "                print(f\"You already guessed the letter {guess}.\")\n",
    "            elif guess not in word:\n",
    "                print(f\"{guess} is not in the word.\")\n",
    "                tries -= 1\n",
    "                guessed_letters.append(guess)\n",
    "            else:\n",
    "                print(f\"Good job! {guess} is in the word.\")\n",
    "                guessed_letters.append(guess)\n",
    "                word_as_list = list(word_completion)\n",
    "                indices = [i for i, letter in enumerate(word) if letter == guess]\n",
    "                for index in indices:\n",
    "                    word_as_list[index] = guess\n",
    "                word_completion = \"\".join(word_as_list)\n",
    "                if \"_\" not in word_completion:\n",
    "                    guessed = True\n",
    "        elif len(guess) == len(word) and guess.isalpha():\n",
    "            if guess in guessed_words:\n",
    "                print(f\"You already guessed the word {guess}.\")\n",
    "            elif guess != word:\n",
    "                print(f\"{guess} is not the word.\")\n",
    "                tries -= 1\n",
    "                guessed_words.append(guess)\n",
    "            else:\n",
    "                guessed = True\n",
    "                word_completion = word\n",
    "        else:\n",
    "            print(\"Not a valid guess.\")\n",
    "        \n",
    "        print(display_hangman(tries))\n",
    "        print(word_completion)\n",
    "        print(\"\\n\")\n",
    "    \n",
    "    if guessed:\n",
    "        print(\"Congrats, you guessed the word! You win!\")\n",
    "    else:\n",
    "        print(f\"Sorry, you ran out of tries. The word was {word}. Maybe next time!\")\n",
    "\n",
    "if __name__ == \"__main__\":\n",
    "    play()\n"
   ]
  },
  {
   "cell_type": "code",
   "execution_count": null,
   "id": "5064c41a-429f-4d55-aae3-59d7d6b8d4ef",
   "metadata": {},
   "outputs": [],
   "source": []
  }
 ],
 "metadata": {
  "kernelspec": {
   "display_name": "Python 3 (ipykernel)",
   "language": "python",
   "name": "python3"
  },
  "language_info": {
   "codemirror_mode": {
    "name": "ipython",
    "version": 3
   },
   "file_extension": ".py",
   "mimetype": "text/x-python",
   "name": "python",
   "nbconvert_exporter": "python",
   "pygments_lexer": "ipython3",
   "version": "3.12.4"
  }
 },
 "nbformat": 4,
 "nbformat_minor": 5
}
